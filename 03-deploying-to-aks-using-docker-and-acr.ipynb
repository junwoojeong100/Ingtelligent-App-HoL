{
 "cells": [
  {
   "cell_type": "markdown",
   "id": "44b9c676",
   "metadata": {},
   "source": [
    "# 실습 세션 3: 여행 플래너 Multi-Agent 앱의 Docker 빌드 및 AKS 배포\n",
    "\n",
    "이 세션에서는 세션 2에서 만든 여행 플래너 멀티에이전트 앱을 Docker 이미지로 빌드하고, Azure Kubernetes Service(AKS)에 배포하는 핵심 실습만 다룹니다."
   ]
  },
  {
   "cell_type": "markdown",
   "id": "86916f53",
   "metadata": {},
   "source": [
    "## 1. Docker CLI 설치 확인 (GitHub Codespaces 환경)\n",
    "\n",
    "GitHub Codespaces 환경에는 이미 Docker CLI가 설치되어 있으므로 별도의 설치가 필요하지 않습니다.\n",
    "\n",
    "- Codespaces 터미널에서 아래 명령어로 Docker CLI가 정상적으로 설치되어 있는지 확인하세요.\n",
    "\n",
    "```sh\n",
    "docker --version\n",
    "```\n",
    "\n",
    "- 위 명령어 실행 시 Docker 버전 정보가 출력되면 정상입니다.\n",
    "- 로컬 환경에서 실습할 경우 [Docker Desktop](https://www.docker.com/products/docker-desktop/)을 별도로 설치해야 합니다."
   ]
  },
  {
   "cell_type": "markdown",
   "id": "39cb9f3c",
   "metadata": {},
   "source": [
    "## 2. Dockerfile 작성\n",
    "\n",
    "아래는 여행 플래너 앱을 컨테이너화하기 위한 Dockerfile 예시입니다."
   ]
  },
  {
   "cell_type": "code",
   "execution_count": null,
   "id": "85e013e1",
   "metadata": {},
   "outputs": [],
   "source": [
    "%%writefile Dockerfile\n",
    "# Step 1: Base image with Python environment\n",
    "FROM python:3.12-slim AS base\n",
    "\n",
    "# Step 2: Set working directory\n",
    "WORKDIR /app\n",
    "\n",
    "# Step 3: Install dependencies\n",
    "COPY requirements.txt .\n",
    "RUN pip install --no-cache-dir -r requirements.txt\n",
    "\n",
    "# Step 4: Copy the project files into the container\n",
    "COPY . .\n",
    "\n",
    "# Step 5: Define the entry point\n",
    "ENTRYPOINT [\"python\", \"/app/travel_planning_agent.py\"]"
   ]
  },
  {
   "cell_type": "markdown",
   "id": "012e3e2b",
   "metadata": {},
   "source": [
    "## 2. Docker 이미지 빌드\n",
    "\n",
    "아래 명령어로 Docker 이미지를 빌드합니다. (로컬에서 실행)"
   ]
  },
  {
   "cell_type": "code",
   "execution_count": null,
   "id": "d094ace9",
   "metadata": {},
   "outputs": [],
   "source": [
    "# Docker 이미지 빌드\n",
    "!docker build -t travel-planning-agent-app:v1 ."
   ]
  },
  {
   "cell_type": "markdown",
   "id": "fdc4b101",
   "metadata": {},
   "source": [
    "## 3. Azure CLI 설치 (GitHub Codespaces 환경)\n",
    "\n",
    "GitHub Codespaces 환경에는 기본적으로 Azure CLI(az)가 설치되어 있지 않을 수 있습니다. 아래 명령어로 Azure CLI를 설치하세요.\n",
    "```\n",
    "curl -sL https://aka.ms/InstallAzureCLIDeb | sudo bash\n",
    "```\n",
    "\n",
    "- 설치 후, `az --version` 명령어로 정상 설치 여부를 확인하세요.\n",
    "- 이후 단계에서 az 명령어를 사용해 Azure 리소스를 생성할 수 있습니다."
   ]
  },
  {
   "cell_type": "markdown",
   "id": "8860c4ed",
   "metadata": {},
   "source": [
    "## 4. AKS 클러스터 및 ACR 레지스트리 생성\n",
    "\n",
    "아래 명령어로 Azure에서 컨테이너 레지스트리(ACR)와 AKS 클러스터을 생성합니다.\n",
    "\n",
    "먼저 Azure 계정에 로그인하세요:"
   ]
  },
  {
   "cell_type": "code",
   "execution_count": null,
   "id": "a4faf927",
   "metadata": {},
   "outputs": [],
   "source": [
    "# Azure 계정 로그인\n",
    "!az login"
   ]
  },
  {
   "cell_type": "code",
   "execution_count": null,
   "id": "894e5d7c",
   "metadata": {},
   "outputs": [],
   "source": [
    "# Azure 리소스 그룹 생성 (예시)\n",
    "# !az group create --name myResourceGroup --location koreacentral\n",
    "\n",
    "# Azure Container Registry 생성 (예시)\n",
    "# !az acr create --resource-group myResourceGroup --name <ACR-REGISTRY-NAME> --sku Basic\n",
    "\n",
    "# AKS 클러스터 생성 (예시)\n",
    "# !az aks create --resource-group myResourceGroup --name myAKSCluster --node-count 1 --enable-addons monitoring --generate-ssh-keys --attach-acr <ACR-REGISTRY-NAME>\n",
    "\n",
    "# AKS 클러스터 인증 정보 가져오기\n",
    "# !az aks get-credentials --resource-group myResourceGroup --name myAKSCluster"
   ]
  },
  {
   "cell_type": "markdown",
   "id": "fe1820c4",
   "metadata": {},
   "source": [
    "이제 위에서 생성한 ACR과 AKS를 활용해 이미지를 푸시하고, 클러스터에 배포할 수 있습니다."
   ]
  },
  {
   "cell_type": "markdown",
   "id": "20d8b422",
   "metadata": {},
   "source": [
    "## 5. Kubernetes 배포를 위한 YAML 파일 작성\n",
    "\n",
    "아래는 AKS에 배포할 때 사용할 수 있는 예시 deployment.yaml 입니다."
   ]
  },
  {
   "cell_type": "code",
   "execution_count": null,
   "id": "57792c8d",
   "metadata": {},
   "outputs": [],
   "source": [
    "%%writefile deployment.yaml\n",
    "apiVersion: apps/v1\n",
    "kind: Deployment\n",
    "metadata:\n",
    "  name: travel-planning-agent-app\n",
    "spec:\n",
    "  replicas: 1\n",
    "  selector:\n",
    "    matchLabels:\n",
    "      app: travel-planning-agent-app\n",
    "  template:\n",
    "    metadata:\n",
    "      labels:\n",
    "        app: travel-planning-agent-app\n",
    "    spec:\n",
    "      containers:\n",
    "      - name: travel-planning-agent-app\n",
    "        image: <ACR-REGISTRY>/travel-planning-agent-app:v1  # 실제 ACR 경로로 교체"
   ]
  },
  {
   "cell_type": "markdown",
   "id": "8d06b244",
   "metadata": {},
   "source": [
    "## 6. AKS에 배포 (kubectl)\n",
    "\n",
    "아래 명령어로 이미지를 ACR에 푸시하고, AKS에 배포합니다."
   ]
  },
  {
   "cell_type": "code",
   "execution_count": null,
   "id": "881d2592",
   "metadata": {},
   "outputs": [],
   "source": [
    "# 1. ACR에 이미지 푸시 (예시)\n",
    "# !az acr login --name <ACR-REGISTRY-NAME>\n",
    "# !docker tag travel-planning-agent-app:v1 <ACR-REGISTRY>/travel-planning-agent-app:v1\n",
    "# !docker push <ACR-REGISTRY>/travel-planning-agent-app:v1\n",
    "\n",
    "# 2. AKS에 배포\n",
    "# !kubectl apply -f deployment.yaml"
   ]
  },
  {
   "cell_type": "markdown",
   "id": "f2c3317a",
   "metadata": {},
   "source": [
    "---\n",
    "\n",
    "- `<ACR-REGISTRY>`는 실제 Azure Container Registry 주소로 교체하세요.\n",
    "- 필요시 replicas, 리소스, 네트워크 설정 등은 YAML에서 조정하세요."
   ]
  },
  {
   "cell_type": "markdown",
   "id": "dd98cdda",
   "metadata": {},
   "source": [
    "## 7. Log Analytics Workspace에서 컨테이너 로그 조회\n",
    "\n",
    "AKS 클러스터를 생성할 때 Log Analytics Workspace를 연동했다면, 아래 방법으로 컨테이너 로그를 확인할 수 있습니다.\n",
    "\n",
    "- Azure Portal에서 AKS 클러스터 > 모니터링 > 로그(Logs) 메뉴로 이동\n",
    "- 아래와 같은 Kusto 쿼리로 컨테이너 로그를 조회할 수 있습니다."
   ]
  },
  {
   "cell_type": "code",
   "execution_count": null,
   "id": "5a60216e",
   "metadata": {},
   "outputs": [],
   "source": [
    "# 예시: 컨테이너 v2 로그 Kusto 쿼리\n",
    "# ContainerLogV2\n",
    "# | where ContainerName == \"travel-planning-agent-app\"\n",
    "# | sort by TimeGenerated desc\n",
    "# | take 100"
   ]
  },
  {
   "cell_type": "markdown",
   "id": "a25d7499",
   "metadata": {},
   "source": [
    "- 필요에 따라 PodName, Namespace, LogLevel 등으로 필터링할 수 있습니다.\n",
    "- 실시간 로그 스트림이 필요하다면 Azure Portal의 \"실시간 로그\" 기능을 활용하거나, kubectl logs 명령어도 사용할 수 있습니다."
   ]
  },
  {
   "cell_type": "markdown",
   "id": "84846d2e",
   "metadata": {},
   "source": [
    "## 참고 자료 및 공식 가이드\n",
    "\n",
    "- [Azure Kubernetes Service(AKS) 공식 문서](https://learn.microsoft.com/azure/aks/)\n",
    "- [Azure Container Registry(ACR) 공식 문서](https://learn.microsoft.com/azure/container-registry/)\n",
    "- [Docker 공식 문서](https://docs.docker.com/)\n",
    "- [Kubernetes 공식 문서](https://kubernetes.io/docs/)\n",
    "- [Azure CLI 공식 문서](https://learn.microsoft.com/cli/azure/)\n",
    "\n",
    "위 링크를 참고하여 각 기술의 상세 사용법과 추가 예제를 확인할 수 있습니다."
   ]
  }
 ],
 "metadata": {
  "language_info": {
   "name": "python"
  }
 },
 "nbformat": 4,
 "nbformat_minor": 5
}
