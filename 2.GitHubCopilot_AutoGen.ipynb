{
 "cells": [
  {
   "cell_type": "markdown",
   "id": "e07c610d",
   "metadata": {},
   "source": [
    "# 실습 세션 2: AutoGen 기반 여행 플래너 Multi-Agent 앱 구현\n",
    "\n",
    "이 세션에서는 Microsoft AutoGen 프레임워크를 활용하여 여행 플래너 멀티 에이전트 애플리케이션을 구현합니다. 다양한 역할의 AI 에이전트가 협업하여 사용자의 여행 계획을 도와주는 시스템을 만들어봅니다."
   ]
  },
  {
   "cell_type": "markdown",
   "id": "b8041ef6",
   "metadata": {},
   "source": [
    "## 1. GitHub Copilot 활성화 및 Agent Mode 소개\n",
    "\n",
    "이 실습에서는 GitHub Copilot의 Agent Mode를 활용합니다. 아래 내용을 참고하여 Copilot을 활성화하고, Edit/Chat 모드의 차이와 사용법을 익히세요.\n",
    "\n",
    "### GitHub Copilot 활성화 방법\n",
    "1. VS Code에서 [Extensions]에서 'GitHub Copilot'을 설치합니다.\n",
    "2. 상태바 또는 Command Palette(Cmd+Shift+P)에서 'Copilot: Sign In'을 선택해 GitHub 계정으로 로그인합니다.\n",
    "3. Copilot이 정상적으로 활성화되면, 에디터 우측 하단에 Copilot 아이콘이 표시됩니다.\n",
    "\n",
    "### Agent Mode란?\n",
    "- **Agent Mode**는 Copilot이 단순 코드 자동완성(Inline) 기능을 넘어, 파일 편집(Edit)과 대화(Chat) 기반의 다양한 개발 작업을 지원하는 모드입니다.\n",
    "- Edit/Chat 모드 모두 Agent Mode의 일부로, 더 복잡한 작업을 Copilot이 직접 수행할 수 있습니다.\n",
    "\n",
    "#### Edit 모드\n",
    "- 코드 파일에서 특정 영역을 선택한 뒤, Copilot 패널에서 \"Edit with Copilot\"을 클릭하면 선택 영역을 수정/리팩터링/설명/변환 등 다양한 작업을 요청할 수 있습니다.\n",
    "- 예시: 함수 블록을 선택 → \"함수에 타입 힌트 추가\" 요청\n",
    "\n",
    "#### Chat 모드\n",
    "- Copilot Chat 패널(사이드바 또는 하단)에서 자연어로 질문하거나, 파일/코드/작업에 대한 지시를 내릴 수 있습니다.\n",
    "- 예시: \"이 파일의 주요 버그를 찾아줘\", \"이 함수의 시간복잡도를 설명해줘\"\n",
    "\n",
    "> **Tip:** 실습 중 코드 셀이나 파일에서 Copilot Chat에 `/edit` 명령어를 입력하면, 선택 영역을 Edit 모드로 바로 전환할 수 있습니다.\n",
    "\n",
    "---"
   ]
  },
  {
   "cell_type": "markdown",
   "id": "73556b96",
   "metadata": {},
   "source": [
    "## 2. 필요한 라이브러리 설치\n",
    "\n",
    "AutoGen 및 관련 라이브러리를 설치합니다."
   ]
  },
  {
   "cell_type": "code",
   "execution_count": 18,
   "id": "8f4be9a9",
   "metadata": {},
   "outputs": [
    {
     "name": "stdout",
     "output_type": "stream",
     "text": [
      "Requirement already satisfied: autogen-agentchat in ./.venv/lib/python3.12/site-packages (from -r requirements.txt (line 1)) (0.5.5)\n",
      "Requirement already satisfied: openai in ./.venv/lib/python3.12/site-packages (from -r requirements.txt (line 3)) (1.76.0)\n",
      "Requirement already satisfied: python-dotenv in ./.venv/lib/python3.12/site-packages (from -r requirements.txt (line 4)) (1.1.0)\n",
      "Requirement already satisfied: requests in ./.venv/lib/python3.12/site-packages (from -r requirements.txt (line 5)) (2.32.3)\n",
      "Requirement already satisfied: tiktoken in ./.venv/lib/python3.12/site-packages (from -r requirements.txt (line 6)) (0.9.0)\n",
      "Requirement already satisfied: autogen-ext[azure,openai] in ./.venv/lib/python3.12/site-packages (from -r requirements.txt (line 2)) (0.5.5)\n",
      "Requirement already satisfied: autogen-core==0.5.5 in ./.venv/lib/python3.12/site-packages (from autogen-agentchat->-r requirements.txt (line 1)) (0.5.5)\n",
      "Requirement already satisfied: jsonref~=1.1.0 in ./.venv/lib/python3.12/site-packages (from autogen-core==0.5.5->autogen-agentchat->-r requirements.txt (line 1)) (1.1.0)\n",
      "Requirement already satisfied: opentelemetry-api>=1.27.0 in ./.venv/lib/python3.12/site-packages (from autogen-core==0.5.5->autogen-agentchat->-r requirements.txt (line 1)) (1.32.1)\n",
      "Requirement already satisfied: pillow>=11.0.0 in ./.venv/lib/python3.12/site-packages (from autogen-core==0.5.5->autogen-agentchat->-r requirements.txt (line 1)) (11.2.1)\n",
      "Requirement already satisfied: protobuf~=5.29.3 in ./.venv/lib/python3.12/site-packages (from autogen-core==0.5.5->autogen-agentchat->-r requirements.txt (line 1)) (5.29.4)\n",
      "Requirement already satisfied: pydantic<3.0.0,>=2.10.0 in ./.venv/lib/python3.12/site-packages (from autogen-core==0.5.5->autogen-agentchat->-r requirements.txt (line 1)) (2.11.3)\n",
      "Requirement already satisfied: typing-extensions>=4.0.0 in ./.venv/lib/python3.12/site-packages (from autogen-core==0.5.5->autogen-agentchat->-r requirements.txt (line 1)) (4.13.2)\n",
      "Requirement already satisfied: annotated-types>=0.6.0 in ./.venv/lib/python3.12/site-packages (from pydantic<3.0.0,>=2.10.0->autogen-core==0.5.5->autogen-agentchat->-r requirements.txt (line 1)) (0.7.0)\n",
      "Requirement already satisfied: pydantic-core==2.33.1 in ./.venv/lib/python3.12/site-packages (from pydantic<3.0.0,>=2.10.0->autogen-core==0.5.5->autogen-agentchat->-r requirements.txt (line 1)) (2.33.1)\n",
      "Requirement already satisfied: typing-inspection>=0.4.0 in ./.venv/lib/python3.12/site-packages (from pydantic<3.0.0,>=2.10.0->autogen-core==0.5.5->autogen-agentchat->-r requirements.txt (line 1)) (0.4.0)\n",
      "Requirement already satisfied: azure-ai-inference>=1.0.0b7 in ./.venv/lib/python3.12/site-packages (from autogen-ext[azure,openai]->-r requirements.txt (line 2)) (1.0.0b9)\n",
      "Requirement already satisfied: azure-ai-projects>=1.0.0b8 in ./.venv/lib/python3.12/site-packages (from autogen-ext[azure,openai]->-r requirements.txt (line 2)) (1.0.0b10)\n",
      "Requirement already satisfied: azure-core in ./.venv/lib/python3.12/site-packages (from autogen-ext[azure,openai]->-r requirements.txt (line 2)) (1.33.0)\n",
      "Requirement already satisfied: azure-identity in ./.venv/lib/python3.12/site-packages (from autogen-ext[azure,openai]->-r requirements.txt (line 2)) (1.21.0)\n",
      "Requirement already satisfied: azure-search-documents>=11.4.0 in ./.venv/lib/python3.12/site-packages (from autogen-ext[azure,openai]->-r requirements.txt (line 2)) (11.5.2)\n",
      "Requirement already satisfied: aiofiles in ./.venv/lib/python3.12/site-packages (from autogen-ext[azure,openai]->-r requirements.txt (line 2)) (24.1.0)\n",
      "Requirement already satisfied: anyio<5,>=3.5.0 in ./.venv/lib/python3.12/site-packages (from openai->-r requirements.txt (line 3)) (4.9.0)\n",
      "Requirement already satisfied: distro<2,>=1.7.0 in ./.venv/lib/python3.12/site-packages (from openai->-r requirements.txt (line 3)) (1.9.0)\n",
      "Requirement already satisfied: httpx<1,>=0.23.0 in ./.venv/lib/python3.12/site-packages (from openai->-r requirements.txt (line 3)) (0.28.1)\n",
      "Requirement already satisfied: jiter<1,>=0.4.0 in ./.venv/lib/python3.12/site-packages (from openai->-r requirements.txt (line 3)) (0.9.0)\n",
      "Requirement already satisfied: sniffio in ./.venv/lib/python3.12/site-packages (from openai->-r requirements.txt (line 3)) (1.3.1)\n",
      "Requirement already satisfied: tqdm>4 in ./.venv/lib/python3.12/site-packages (from openai->-r requirements.txt (line 3)) (4.67.1)\n",
      "Requirement already satisfied: idna>=2.8 in ./.venv/lib/python3.12/site-packages (from anyio<5,>=3.5.0->openai->-r requirements.txt (line 3)) (3.10)\n",
      "Requirement already satisfied: certifi in ./.venv/lib/python3.12/site-packages (from httpx<1,>=0.23.0->openai->-r requirements.txt (line 3)) (2025.4.26)\n",
      "Requirement already satisfied: httpcore==1.* in ./.venv/lib/python3.12/site-packages (from httpx<1,>=0.23.0->openai->-r requirements.txt (line 3)) (1.0.9)\n",
      "Requirement already satisfied: h11>=0.16 in ./.venv/lib/python3.12/site-packages (from httpcore==1.*->httpx<1,>=0.23.0->openai->-r requirements.txt (line 3)) (0.16.0)\n",
      "Requirement already satisfied: charset-normalizer<4,>=2 in ./.venv/lib/python3.12/site-packages (from requests->-r requirements.txt (line 5)) (3.4.1)\n",
      "Requirement already satisfied: urllib3<3,>=1.21.1 in ./.venv/lib/python3.12/site-packages (from requests->-r requirements.txt (line 5)) (2.4.0)\n",
      "Requirement already satisfied: regex>=2022.1.18 in ./.venv/lib/python3.12/site-packages (from tiktoken->-r requirements.txt (line 6)) (2024.11.6)\n",
      "Requirement already satisfied: isodate>=0.6.1 in ./.venv/lib/python3.12/site-packages (from azure-ai-inference>=1.0.0b7->autogen-ext[azure,openai]->-r requirements.txt (line 2)) (0.7.2)\n",
      "Requirement already satisfied: six>=1.11.0 in ./.venv/lib/python3.12/site-packages (from azure-core->autogen-ext[azure,openai]->-r requirements.txt (line 2)) (1.17.0)\n",
      "Requirement already satisfied: azure-common>=1.1 in ./.venv/lib/python3.12/site-packages (from azure-search-documents>=11.4.0->autogen-ext[azure,openai]->-r requirements.txt (line 2)) (1.1.28)\n",
      "Requirement already satisfied: deprecated>=1.2.6 in ./.venv/lib/python3.12/site-packages (from opentelemetry-api>=1.27.0->autogen-core==0.5.5->autogen-agentchat->-r requirements.txt (line 1)) (1.2.18)\n",
      "Requirement already satisfied: importlib-metadata<8.7.0,>=6.0 in ./.venv/lib/python3.12/site-packages (from opentelemetry-api>=1.27.0->autogen-core==0.5.5->autogen-agentchat->-r requirements.txt (line 1)) (8.6.1)\n",
      "Requirement already satisfied: zipp>=3.20 in ./.venv/lib/python3.12/site-packages (from importlib-metadata<8.7.0,>=6.0->opentelemetry-api>=1.27.0->autogen-core==0.5.5->autogen-agentchat->-r requirements.txt (line 1)) (3.21.0)\n",
      "Requirement already satisfied: wrapt<2,>=1.10 in ./.venv/lib/python3.12/site-packages (from deprecated>=1.2.6->opentelemetry-api>=1.27.0->autogen-core==0.5.5->autogen-agentchat->-r requirements.txt (line 1)) (1.17.2)\n",
      "Requirement already satisfied: cryptography>=2.5 in ./.venv/lib/python3.12/site-packages (from azure-identity->autogen-ext[azure,openai]->-r requirements.txt (line 2)) (44.0.2)\n",
      "Requirement already satisfied: msal>=1.30.0 in ./.venv/lib/python3.12/site-packages (from azure-identity->autogen-ext[azure,openai]->-r requirements.txt (line 2)) (1.32.3)\n",
      "Requirement already satisfied: msal-extensions>=1.2.0 in ./.venv/lib/python3.12/site-packages (from azure-identity->autogen-ext[azure,openai]->-r requirements.txt (line 2)) (1.3.1)\n",
      "Requirement already satisfied: cffi>=1.12 in ./.venv/lib/python3.12/site-packages (from cryptography>=2.5->azure-identity->autogen-ext[azure,openai]->-r requirements.txt (line 2)) (1.17.1)\n",
      "Requirement already satisfied: pycparser in ./.venv/lib/python3.12/site-packages (from cffi>=1.12->cryptography>=2.5->azure-identity->autogen-ext[azure,openai]->-r requirements.txt (line 2)) (2.22)\n",
      "Requirement already satisfied: PyJWT<3,>=1.0.0 in ./.venv/lib/python3.12/site-packages (from PyJWT[crypto]<3,>=1.0.0->msal>=1.30.0->azure-identity->autogen-ext[azure,openai]->-r requirements.txt (line 2)) (2.10.1)\n"
     ]
    }
   ],
   "source": [
    "# AutoGen 및 필요한 라이브러리 설치\n",
    "!pip install -r requirements.txt"
   ]
  },
  {
   "cell_type": "markdown",
   "id": "3be960a2",
   "metadata": {},
   "source": [
    "## 3. AutoGen 프레임워크 및 환경 설정\n",
    "\n",
    "OpenAI API 키 등 환경 변수를 설정하고, 모델 클라이언트를 준비합니다."
   ]
  },
  {
   "cell_type": "code",
   "execution_count": 19,
   "id": "b8ff7309",
   "metadata": {},
   "outputs": [
    {
     "name": "stdout",
     "output_type": "stream",
     "text": [
      "AutoGen 설정이 완료되었습니다.\n"
     ]
    }
   ],
   "source": [
    "from autogen_agentchat.agents import AssistantAgent\n",
    "from autogen_agentchat.conditions import TextMentionTermination\n",
    "from autogen_agentchat.teams import RoundRobinGroupChat\n",
    "from autogen_agentchat.ui import Console\n",
    "from autogen_ext.models.openai import OpenAIChatCompletionClient\n",
    "from autogen_ext.models.openai import AzureOpenAIChatCompletionClient\n",
    "\n",
    "import os\n",
    "import json\n",
    "from openai import AzureOpenAI\n",
    "from dotenv import load_dotenv\n",
    "\n",
    "load_dotenv()\n",
    "\n",
    "model_client = AzureOpenAIChatCompletionClient(\n",
    "    azure_deployment=os.getenv(\"AZURE_OPENAI_DEPLOYMENT_NAME\"),\n",
    "    model=os.getenv(\"AZURE_OPENAI_DEPLOYMENT_NAME\"),\n",
    "    api_version=os.getenv(\"AZURE_OPENAI_API_VERSION\"),\n",
    "    azure_endpoint=os.getenv(\"AZURE_OPENAI_ENDPOINT\"),\n",
    "    api_key=os.getenv(\"AZURE_OPENAI_API_KEY\"), # For key-based authentication.\n",
    ")\n",
    "\n",
    "print(\"AutoGen 설정이 완료되었습니다.\")"
   ]
  },
  {
   "cell_type": "markdown",
   "id": "877bb5ca",
   "metadata": {},
   "source": [
    "## 3. 여행 플래너 Multi-Agent 시스템 구성\n",
    "\n",
    "여행 플래너, 로컬 추천, 언어 팁, 여행 요약 등 다양한 역할의 에이전트를 정의합니다."
   ]
  },
  {
   "cell_type": "code",
   "execution_count": 20,
   "id": "208981df",
   "metadata": {},
   "outputs": [],
   "source": [
    "from autogen_agentchat.agents import AssistantAgent, UserProxyAgent\n",
    "from autogen_agentchat.conditions import MaxMessageTermination, TextMentionTermination\n",
    "from autogen_agentchat.teams import RoundRobinGroupChat\n",
    "from autogen_agentchat.ui import Console\n",
    "import asyncio\n",
    "\n",
    "planner_agent = AssistantAgent(\n",
    "    name=\"planner_agent\",\n",
    "    description=\"A helpful assistant that can plan trips\",\n",
    "    model_client=model_client,\n",
    "    system_message=\"\"\"You are a helpful assistant that can suggest a travel plan for a user based on their request.\\nEnd your planning with 'INITIAL PLAN COMPLETE'.\"\"\"\n",
    ")\n",
    "\n",
    "local_agent = AssistantAgent(\n",
    "    name=\"local_agent\",\n",
    "    description=\"A local assistant that can suggest local activities or places to visit\",\n",
    "    model_client=model_client,\n",
    "    system_message=\"\"\"You are a helpful assistant that can suggest authentic and interesting local activities or places to visit for a user.\\nEnd your recommendations with 'LOCAL RECOMMENDATIONS COMPLETE'.\"\"\"\n",
    ")\n",
    "\n",
    "language_agent = AssistantAgent(\n",
    "    name=\"language_agent\",\n",
    "    description=\"A helpful assistant that can provide language tips for a given destination\",\n",
    "    model_client=model_client,\n",
    "    system_message=\"\"\"You are a helpful assistant that can review travel plans, providing feedback on important/critical tips about how best to address language or communication challenges for the given destination.\\nEnd your language tips with 'LANGUAGE TIPS COMPLETE'.\"\"\"\n",
    ")\n",
    "\n",
    "travel_summary_agent = AssistantAgent(\n",
    "    name=\"travel_summary_agent\",\n",
    "    description=\"A helpful assistant that can summarize the travel plan\",\n",
    "    model_client=model_client,\n",
    "    system_message=\"\"\"You are a helpful assistant that can take in all of the suggestions and advice from the other agents and provide a detailed final travel plan.\\nYOUR FINAL RESPONSE MUST BE THE COMPLETE PLAN.\\nWhen the plan is complete and all perspectives are integrated, you can respond with TERMINATE.\"\"\"\n",
    ")\n",
    "\n",
    "user_proxy_travel = UserProxyAgent(\n",
    "    name=\"user_proxy\",\n",
    "    description=\"A traveler seeking travel planning assistance\"\n",
    ")"
   ]
  },
  {
   "cell_type": "markdown",
   "id": "616123fc",
   "metadata": {},
   "source": [
    "## 4. 그룹 채팅 및 종료 조건 설정\n",
    "\n",
    "RoundRobinGroupChat을 사용하여 에이전트 협업 구조를 만들고, 대화 종료 조건을 정의합니다."
   ]
  },
  {
   "cell_type": "code",
   "execution_count": 21,
   "id": "89b92fa5",
   "metadata": {},
   "outputs": [],
   "source": [
    "termination = MaxMessageTermination(max_messages=30) | TextMentionTermination(\"TERMINATE\")\n",
    "\n",
    "group_chat = RoundRobinGroupChat(\n",
    "    [planner_agent, local_agent, language_agent, travel_summary_agent, user_proxy_travel],\n",
    "    termination_condition=termination\n",
    ")"
   ]
  },
  {
   "cell_type": "markdown",
   "id": "cf9cb6d3",
   "metadata": {},
   "source": [
    "## 5. 여행 플래너 Multi-Agent 대화 실행\n",
    "\n",
    "아래 코드를 실행하면, 다양한 에이전트가 협업하여 여행 계획을 완성합니다."
   ]
  },
  {
   "cell_type": "code",
   "execution_count": null,
   "id": "6469c201",
   "metadata": {},
   "outputs": [
    {
     "name": "stderr",
     "output_type": "stream",
     "text": [
      "/Users/junwoojeong/Downloads/Intelligent App Hands-on Lab/.venv/lib/python3.12/site-packages/pygments/regexopt.py:26: RuntimeWarning: coroutine 'run_travel_planner' was never awaited\n",
      "  def regex_opt_inner(strings, open_paren):\n",
      "RuntimeWarning: Enable tracemalloc to get the object allocation traceback\n"
     ]
    },
    {
     "ename": "RuntimeError",
     "evalue": "asyncio.run() cannot be called from a running event loop",
     "output_type": "error",
     "traceback": [
      "\u001b[31m---------------------------------------------------------------------------\u001b[39m",
      "\u001b[31mRuntimeError\u001b[39m                              Traceback (most recent call last)",
      "\u001b[36mCell\u001b[39m\u001b[36m \u001b[39m\u001b[32mIn[22]\u001b[39m\u001b[32m, line 7\u001b[39m\n\u001b[32m      4\u001b[39m     \u001b[38;5;28;01mawait\u001b[39;00m Console(group_chat.run_stream(task=travel_task))\n\u001b[32m      6\u001b[39m \u001b[38;5;66;03m# 실행:\u001b[39;00m\n\u001b[32m----> \u001b[39m\u001b[32m7\u001b[39m \u001b[43masyncio\u001b[49m\u001b[43m.\u001b[49m\u001b[43mrun\u001b[49m\u001b[43m(\u001b[49m\u001b[43mrun_travel_planner\u001b[49m\u001b[43m(\u001b[49m\u001b[43m)\u001b[49m\u001b[43m)\u001b[49m\n",
      "\u001b[36mFile \u001b[39m\u001b[32m/opt/homebrew/Cellar/python@3.12/3.12.10/Frameworks/Python.framework/Versions/3.12/lib/python3.12/asyncio/runners.py:191\u001b[39m, in \u001b[36mrun\u001b[39m\u001b[34m(main, debug, loop_factory)\u001b[39m\n\u001b[32m    161\u001b[39m \u001b[38;5;250m\u001b[39m\u001b[33;03m\"\"\"Execute the coroutine and return the result.\u001b[39;00m\n\u001b[32m    162\u001b[39m \n\u001b[32m    163\u001b[39m \u001b[33;03mThis function runs the passed coroutine, taking care of\u001b[39;00m\n\u001b[32m   (...)\u001b[39m\u001b[32m    187\u001b[39m \u001b[33;03m    asyncio.run(main())\u001b[39;00m\n\u001b[32m    188\u001b[39m \u001b[33;03m\"\"\"\u001b[39;00m\n\u001b[32m    189\u001b[39m \u001b[38;5;28;01mif\u001b[39;00m events._get_running_loop() \u001b[38;5;129;01mis\u001b[39;00m \u001b[38;5;129;01mnot\u001b[39;00m \u001b[38;5;28;01mNone\u001b[39;00m:\n\u001b[32m    190\u001b[39m     \u001b[38;5;66;03m# fail fast with short traceback\u001b[39;00m\n\u001b[32m--> \u001b[39m\u001b[32m191\u001b[39m     \u001b[38;5;28;01mraise\u001b[39;00m \u001b[38;5;167;01mRuntimeError\u001b[39;00m(\n\u001b[32m    192\u001b[39m         \u001b[33m\"\u001b[39m\u001b[33masyncio.run() cannot be called from a running event loop\u001b[39m\u001b[33m\"\u001b[39m)\n\u001b[32m    194\u001b[39m \u001b[38;5;28;01mwith\u001b[39;00m Runner(debug=debug, loop_factory=loop_factory) \u001b[38;5;28;01mas\u001b[39;00m runner:\n\u001b[32m    195\u001b[39m     \u001b[38;5;28;01mreturn\u001b[39;00m runner.run(main)\n",
      "\u001b[31mRuntimeError\u001b[39m: asyncio.run() cannot be called from a running event loop"
     ]
    }
   ],
   "source": [
    "travel_task = \"\"\"I'm planning a 5-day trip to Paris with my friend. We love art, food, and want to experience both famous sights and some local hidden gems. We don't speak French. Please help create a detailed travel plan.\"\"\"\n",
    "\n",
    "async def run_travel_planner():\n",
    "    await Console(group_chat.run_stream(task=travel_task))\n",
    "\n",
    "# 실행:\n",
    "await run_travel_planner()"
   ]
  },
  {
   "cell_type": "markdown",
   "id": "52e78c56",
   "metadata": {},
   "source": [
    "## 6. 마무리 및 다음 단계\n",
    "\n",
    "이 세션에서는 AutoGen을 활용한 여행 플래너 Multi-Agent 시스템을 구현했습니다. 다양한 역할의 에이전트가 협업하여 사용자의 요구에 맞는 여행 일정을 자동으로 생성하는 과정을 실습했습니다.\n",
    "\n",
    "- 다양한 역할의 에이전트 설계 및 협업 구조 이해\n",
    "- SelectorGroupChat을 통한 동적 역할 분배\n",
    "- 실전 여행 플래너 예제 구현\n",
    "\n",
    "더 많은 예제와 심화 내용은 [AutoGen 공식 문서](https://microsoft.github.io/autogen/)를 참고하세요."
   ]
  }
 ],
 "metadata": {
  "kernelspec": {
   "display_name": ".venv",
   "language": "python",
   "name": "python3"
  },
  "language_info": {
   "codemirror_mode": {
    "name": "ipython",
    "version": 3
   },
   "file_extension": ".py",
   "mimetype": "text/x-python",
   "name": "python",
   "nbconvert_exporter": "python",
   "pygments_lexer": "ipython3",
   "version": "3.12.10"
  }
 },
 "nbformat": 4,
 "nbformat_minor": 5
}
